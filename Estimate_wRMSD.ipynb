{
 "cells": [
  {
   "cell_type": "code",
   "execution_count": 41,
   "id": "a41d948b-5a8e-4a0c-942a-51632517eb7c",
   "metadata": {},
   "outputs": [
    {
     "name": "stdout",
     "output_type": "stream",
     "text": [
      "MDanalysis: 2.7.0\n"
     ]
    }
   ],
   "source": [
    "import MDAnalysis as mda\n",
    "from MDAnalysis.analysis import align,contacts,distances\n",
    "from MDAnalysis.tests.datafiles import PSF, DCD\n",
    "\n",
    "import numpy as np\n",
    "import pandas as pd\n",
    "np.set_printoptions(precision=2)\n",
    "\n",
    "import nglview as nv\n",
    "import warnings\n",
    "warnings.filterwarnings('ignore')\n",
    "\n",
    "print( f\"MDanalysis: {mda.__version__}\" )"
   ]
  },
  {
   "cell_type": "code",
   "execution_count": 2,
   "id": "cccffa47-b39e-41df-bbc6-31468b46fd82",
   "metadata": {},
   "outputs": [],
   "source": [
    "#nglview settings\n",
    "def set_view(vlc):\n",
    "    vlc.background=\"black\"\n",
    "    vlc.camera='orthographic'\n",
    "    vlc.player.parameters = dict(delay=0.5, step=1)\n",
    "    vlc._remote_call('setSize', target='Widget', args=['270px', '270px'])\n",
    "    vlc.clear_representations()\n",
    "    vlc.add_representation('surface', selection='not protein', color='blue')\n",
    "    vlc.add_ribbon(selection='protein',color_scheme=\"sstruc\")\n",
    "    vlc.center()\n",
    "    \n",
    "    return vlc"
   ]
  },
  {
   "cell_type": "code",
   "execution_count": 3,
   "id": "eec3dedd-6868-4be8-9e1a-f670a9c58072",
   "metadata": {},
   "outputs": [],
   "source": [
    "class Gaussian():\n",
    "    def __init__(self,Mobile,Reference,sfactor=5.0):\n",
    "        self.mob , self.ref  = Mobile , Reference\n",
    "        self.fac , self.sel  = sfactor , 'name CA'\n",
    "        self.nframes = self.mob.trajectory.n_frames \n",
    "        self.natoms  = self.mob.trajectory.n_atoms\n",
    "                \n",
    "        # Index of Ca atoms\n",
    "        self.ndx   = np.where( self.mob.atoms.names == 'CA' )[0]\n",
    "        self.size  = self.ndx.size\n",
    "        \n",
    "        # Get positions\n",
    "        self.mpos = self.mob.atoms.positions[ self.ndx ]\n",
    "        self.rpos = self.ref.atoms.positions[ self.ndx ]\n",
    "\n",
    "        # Output data\n",
    "        self.result = np.zeros( (self.nframes,2))\n",
    "        self.coords = np.zeros( (self.nframes,self.natoms,3) , dtype=np.float32 )\n",
    "        self.weight = np.zeros( (self.nframes,self.size)) \n",
    "        \n",
    "    def g_weights(self):\n",
    "        #Squared Displacement\n",
    "        disp = (self.rpos - self.mpos)**2\n",
    "        dsum = disp.sum(axis=1)\n",
    "        return np.exp(-(dsum)/self.fac)\n",
    "        \n",
    "    def g_fits(self,frame):\n",
    "        # Forward to specific frame\n",
    "        self.mob.universe.trajectory[ frame ]\n",
    "        wRMSD, sRMSD, Conv = 100, 0 , 0 \n",
    "        # Initial weight 1 for all Ca atoms\n",
    "        Wgs = np.ones( self.size , dtype=np.float16 )\n",
    "        \n",
    "        # Start iterations\n",
    "        for i in range(50):\n",
    "            # alignto returns rot.matrix and RMSD\n",
    "            _,RMSD = align.alignto(self.mob , self.ref , select=self.sel , weights=Wgs, match_atoms=True)\n",
    "            \n",
    "            # Updated positions,weights\n",
    "            self.mpos = self.mob.atoms.positions[ self.ndx ]\n",
    "            Wgs = self.g_weights() \n",
    "            \n",
    "            if i==0: \n",
    "                # First iteration, assign RMSD to std.RMSD\n",
    "                sRMSD = RMSD\n",
    "           \n",
    "            # Check convergence\n",
    "            if (wRMSD - RMSD) < 0.0001:\n",
    "                Conv = i+1\n",
    "                self.coords[frame] = self.mob.atoms.positions\n",
    "                self.weight[frame] = Wgs\n",
    "                break\n",
    "                \n",
    "            wRMSD = RMSD\n",
    "        self.result[frame,:] =  sRMSD,wRMSD\n",
    "        \n",
    "    def update(self,ts):\n",
    "        ts.positions = self.coords[ts.frame]\n",
    "        return ts\n",
    "        \n",
    "    def conclude(self,prefix='gfit',output=False):\n",
    "        columns = ['sRMSD' , 'wRMSD' ]\n",
    "        self.df = pd.DataFrame(self.result , columns=columns)\n",
    "        self.wg = pd.DataFrame(self.weight, columns=[ f\"R{i}\" for i in range(1,self.size+1) ] )\n",
    "        \n",
    "        if output:\n",
    "            self.df.to_csv( f'{prefix}_rms.csv',index_label='Frame')\n",
    "            self.wg.to_csv( f'{prefix}_wgs.csv',index=False) \n",
    "            self.mob.trajectory.add_transformations(self.update)\n",
    "            sel = self.mob.select_atoms(\"all\")\n",
    "            with mda.Writer(f'{prefix}_trj.xtc', sel.n_atoms) as W:\n",
    "                for ts in self.mob.trajectory:\n",
    "                    W.write(sel)\n",
    "            print( f\"Fitted traj is writtein as {prefix}_trj.xtc\")\n",
    "            \n",
    "        return self.df        "
   ]
  },
  {
   "cell_type": "markdown",
   "id": "385bd028-d820-4e17-84e5-a534f6271500",
   "metadata": {},
   "source": [
    "#### Load trajectory: (MDAnalysis test datafiles)\n",
    "1. Save first frame as reference structure\n",
    "2. View the raw trajectory with nglview"
   ]
  },
  {
   "cell_type": "code",
   "execution_count": 4,
   "id": "6802d7a6-9e31-42d8-89d0-221e1aad219a",
   "metadata": {},
   "outputs": [
    {
     "data": {
      "text/plain": [
       "(<AtomGroup with 3341 atoms>,\n",
       " <AtomGroup with 3341 atoms>,\n",
       " <DCDReader /work/apps/MAMBA/envs/MDTOOLS/lib/python3.10/site-packages/MDAnalysisTests/data/adk_dims.dcd with 98 frames of 3341 atoms>)"
      ]
     },
     "execution_count": 4,
     "metadata": {},
     "output_type": "execute_result"
    }
   ],
   "source": [
    "# test topology & traj imported in cell one\n",
    "M = mda.Universe( PSF , DCD ) \n",
    "M.atoms.write('ref.pdb')\n",
    "# Consider first frame as reference frame\n",
    "R = mda.Universe('ref.pdb')\n",
    "M.atoms,R.atoms,M.trajectory"
   ]
  },
  {
   "cell_type": "code",
   "execution_count": 5,
   "id": "447a222e-10a9-417c-a585-6524a409b09e",
   "metadata": {},
   "outputs": [
    {
     "data": {
      "application/vnd.jupyter.widget-view+json": {
       "model_id": "dd59e752bfac4a95aa5392c982bd7fea",
       "version_major": 2,
       "version_minor": 0
      },
      "text/plain": [
       "NGLWidget(background='black', max_frame=97)"
      ]
     },
     "metadata": {},
     "output_type": "display_data"
    }
   ],
   "source": [
    "view = set_view( nv.show_mdanalysis(M) )\n",
    "view"
   ]
  },
  {
   "cell_type": "markdown",
   "id": "cef496f6-c4c7-415a-9331-79e22ac3bec6",
   "metadata": {},
   "source": [
    "#### Gaussian fitted rmsd\n",
    "- For each frame in the trajectory, produce following outputs\n",
    "    1. rms.csv\n",
    "        - sRMSD : Standard RMSD\n",
    "        - wRMSD : Weighted RMSD\n",
    "    2. wgs.csv\n",
    "        - Contain final weights of all $C_\\alpha$ atoms\n",
    "    3. fit.xtc\n",
    "        - Gaussian fitted output trajectory\n",
    "- Steps\n",
    "  - 1. Instantiate the class, passing traj and reference frames\n",
    "    2. Do gaussian rmsd fit on each frame\n",
    "    3. Run **conclude()** method to collected outputs\n",
    "       - **Remember**:\n",
    "           - Set `output=True` to write output files\n",
    "           - Set `Prefix` parameter to name output files"
   ]
  },
  {
   "cell_type": "code",
   "execution_count": 6,
   "id": "72a63ee0-2f51-4224-8923-b10b02cef7c0",
   "metadata": {},
   "outputs": [
    {
     "name": "stdout",
     "output_type": "stream",
     "text": [
      "CPU times: user 834 ms, sys: 0 ns, total: 834 ms\n",
      "Wall time: 832 ms\n"
     ]
    }
   ],
   "source": [
    "%%time\n",
    "Gauss = Gaussian(M,R)\n",
    "for frm in M.trajectory:\n",
    "   Gauss.g_fits(frm.frame)"
   ]
  },
  {
   "cell_type": "code",
   "execution_count": 7,
   "id": "f85cc81d-8831-47cb-ade3-e1344bf6ccd8",
   "metadata": {},
   "outputs": [
    {
     "name": "stdout",
     "output_type": "stream",
     "text": [
      "Fitted traj is writtein as adk_trj.xtc\n"
     ]
    }
   ],
   "source": [
    "# Set prefix and output as true to write output files\n",
    "data = Gauss.conclude(prefix='adk', output=True)"
   ]
  },
  {
   "cell_type": "code",
   "execution_count": 8,
   "id": "d529f43b-ffd1-4770-8ea4-e4794931db5a",
   "metadata": {},
   "outputs": [
    {
     "data": {
      "application/vnd.jupyter.widget-view+json": {
       "model_id": "8e313ce330be4c0a8fc303bf0c20185f",
       "version_major": 2,
       "version_minor": 0
      },
      "text/plain": [
       "NGLWidget(background='black', max_frame=97)"
      ]
     },
     "metadata": {},
     "output_type": "display_data"
    }
   ],
   "source": [
    "# View the gauss fitted traj\n",
    "trj_fit = mda.Universe('ref.pdb','adk_trj.xtc')\n",
    "view = set_view( nv.show_mdanalysis( trj_fit ) )\n",
    "view"
   ]
  },
  {
   "cell_type": "code",
   "execution_count": 9,
   "id": "0670c1dc-fa50-4f98-b0b7-c3fd39f5156c",
   "metadata": {},
   "outputs": [
    {
     "data": {
      "text/html": [
       "<div>\n",
       "<style scoped>\n",
       "    .dataframe tbody tr th:only-of-type {\n",
       "        vertical-align: middle;\n",
       "    }\n",
       "\n",
       "    .dataframe tbody tr th {\n",
       "        vertical-align: top;\n",
       "    }\n",
       "\n",
       "    .dataframe thead th {\n",
       "        text-align: right;\n",
       "    }\n",
       "</style>\n",
       "<table border=\"1\" class=\"dataframe\">\n",
       "  <thead>\n",
       "    <tr style=\"text-align: right;\">\n",
       "      <th></th>\n",
       "      <th>sRMSD</th>\n",
       "      <th>wRMSD</th>\n",
       "    </tr>\n",
       "  </thead>\n",
       "  <tbody>\n",
       "    <tr>\n",
       "      <th>0</th>\n",
       "      <td>0.000499</td>\n",
       "      <td>0.000499</td>\n",
       "    </tr>\n",
       "    <tr>\n",
       "      <th>1</th>\n",
       "      <td>0.423478</td>\n",
       "      <td>0.417808</td>\n",
       "    </tr>\n",
       "    <tr>\n",
       "      <th>2</th>\n",
       "      <td>0.593694</td>\n",
       "      <td>0.574287</td>\n",
       "    </tr>\n",
       "    <tr>\n",
       "      <th>3</th>\n",
       "      <td>0.736876</td>\n",
       "      <td>0.697940</td>\n",
       "    </tr>\n",
       "    <tr>\n",
       "      <th>4</th>\n",
       "      <td>0.827748</td>\n",
       "      <td>0.765723</td>\n",
       "    </tr>\n",
       "  </tbody>\n",
       "</table>\n",
       "</div>"
      ],
      "text/plain": [
       "      sRMSD     wRMSD\n",
       "0  0.000499  0.000499\n",
       "1  0.423478  0.417808\n",
       "2  0.593694  0.574287\n",
       "3  0.736876  0.697940\n",
       "4  0.827748  0.765723"
      ]
     },
     "execution_count": 9,
     "metadata": {},
     "output_type": "execute_result"
    }
   ],
   "source": [
    "# view the data table\n",
    "data.head(5)"
   ]
  },
  {
   "cell_type": "code",
   "execution_count": 10,
   "id": "7df22ad8-2fcc-4357-846e-f5847e61cdb8",
   "metadata": {},
   "outputs": [
    {
     "data": {
      "text/plain": [
       "<Axes: >"
      ]
     },
     "execution_count": 10,
     "metadata": {},
     "output_type": "execute_result"
    },
    {
     "data": {
      "image/png": "[encoded data removed]",
      "text/plain": [
       "<Figure size 640x480 with 1 Axes>"
      ]
     },
     "metadata": {},
     "output_type": "display_data"
    }
   ],
   "source": [
    "# Plot1: time evolution of rmsd\n",
    "data.plot()"
   ]
  },
  {
   "cell_type": "code",
   "execution_count": 11,
   "id": "3e9983c3-1234-451c-8270-71fa63c8d907",
   "metadata": {},
   "outputs": [
    {
     "data": {
      "text/plain": [
       "<Axes: ylabel='Density'>"
      ]
     },
     "execution_count": 11,
     "metadata": {},
     "output_type": "execute_result"
    },
    {
     "data": {
      "image/png": "[encoded data removed]",
      "text/plain": [
       "<Figure size 640x480 with 1 Axes>"
      ]
     },
     "metadata": {},
     "output_type": "display_data"
    }
   ],
   "source": [
    "# Plot2: distribution of rmsd\n",
    "data.sRMSD.plot(kind='kde')"
   ]
  },
  {
   "cell_type": "code",
   "execution_count": 12,
   "id": "10e80838-9be9-46e9-967e-d6157d5b20f9",
   "metadata": {},
   "outputs": [
    {
     "data": {
      "text/plain": [
       "<Axes: xlabel='wRMSD', ylabel='Proportion'>"
      ]
     },
     "execution_count": 12,
     "metadata": {},
     "output_type": "execute_result"
    },
    {
     "data": {
      "image/png": "[encoded data removed]",
      "text/plain": [
       "<Figure size 320x200 with 2 Axes>"
      ]
     },
     "metadata": {},
     "output_type": "display_data"
    }
   ],
   "source": [
    "# Plot3: Proportion of weighted RMSD\n",
    "import seaborn as sns\n",
    "import matplotlib.pyplot as plt\n",
    "fig,ax = plt.subplots( figsize=(3.2,2) )\n",
    "tx = ax.twinx()\n",
    "\n",
    "sns.distplot(data.wRMSD,hist=False , ax = tx , color='orange')\n",
    "sns.ecdfplot( data.wRMSD ,ax=ax,color='r')"
   ]
  },
  {
   "cell_type": "markdown",
   "id": "f1f49402-02ca-4298-91cd-c4fafefdaf5d",
   "metadata": {},
   "source": [
    "#### Inference\n",
    "- The plot analysed here shows the transition from the [closed to open](https://www.sciencedirect.com/science/article/abs/pii/S0022283609011164?via%3Dihub) conformation of the enzyme adenylate kinase. \n",
    "- The transition results, as expected, in an increase in sRMSD with respect to the initial conformation (Plot 1).\n",
    "- The increase in sRMSD also results in a broader distribution (Plot 2).\n",
    "- The wRMSD is smaller than the sRMSD because the alignment ignores the contribution of most mobile regions (plots 1 and 3).\n",
    "- Proportional plot of wRMSD (Plot 3) shows that nearly 90% of the frames analysed have wRMSD < 1.2 *Ang* (Plot 3)."
   ]
  },
  {
   "cell_type": "markdown",
   "id": "73dff01a-74f4-4b18-a010-23420ca363ba",
   "metadata": {},
   "source": [
    "#### Protein Rigidness\n",
    "- To quantify the `rigid core` within the protein, we use final weights saved after fitting.\n",
    "- To this end, we identify $C_{\\alpha}$ atoms whose displacement is < 1.2 Ang or whose weights > 0.74\n",
    "```python\n",
    " ( exp( -(1.2**2)/5.0 ) = 0.74\n",
    "```"
   ]
  },
  {
   "cell_type": "code",
   "execution_count": 13,
   "id": "d509c12e-07f5-4a3c-83ca-b7660e02c28c",
   "metadata": {},
   "outputs": [],
   "source": [
    "# Fraction of atoms with weights higher than 0.74\n",
    "fn = lambda arr : len( arr[ arr > 0.74 ] )/ arr.size"
   ]
  },
  {
   "cell_type": "code",
   "execution_count": 20,
   "id": "388757e5-e51a-48c9-a46a-5998622dd864",
   "metadata": {},
   "outputs": [
    {
     "data": {
      "text/html": [
       "<div>\n",
       "<style scoped>\n",
       "    .dataframe tbody tr th:only-of-type {\n",
       "        vertical-align: middle;\n",
       "    }\n",
       "\n",
       "    .dataframe tbody tr th {\n",
       "        vertical-align: top;\n",
       "    }\n",
       "\n",
       "    .dataframe thead th {\n",
       "        text-align: right;\n",
       "    }\n",
       "</style>\n",
       "<table border=\"1\" class=\"dataframe\">\n",
       "  <thead>\n",
       "    <tr style=\"text-align: right;\">\n",
       "      <th></th>\n",
       "      <th>R1</th>\n",
       "      <th>R2</th>\n",
       "      <th>R3</th>\n",
       "      <th>R4</th>\n",
       "      <th>R5</th>\n",
       "      <th>R6</th>\n",
       "      <th>R7</th>\n",
       "      <th>R8</th>\n",
       "      <th>R9</th>\n",
       "      <th>R10</th>\n",
       "      <th>...</th>\n",
       "      <th>R205</th>\n",
       "      <th>R206</th>\n",
       "      <th>R207</th>\n",
       "      <th>R208</th>\n",
       "      <th>R209</th>\n",
       "      <th>R210</th>\n",
       "      <th>R211</th>\n",
       "      <th>R212</th>\n",
       "      <th>R213</th>\n",
       "      <th>R214</th>\n",
       "    </tr>\n",
       "    <tr>\n",
       "      <th>Frame</th>\n",
       "      <th></th>\n",
       "      <th></th>\n",
       "      <th></th>\n",
       "      <th></th>\n",
       "      <th></th>\n",
       "      <th></th>\n",
       "      <th></th>\n",
       "      <th></th>\n",
       "      <th></th>\n",
       "      <th></th>\n",
       "      <th></th>\n",
       "      <th></th>\n",
       "      <th></th>\n",
       "      <th></th>\n",
       "      <th></th>\n",
       "      <th></th>\n",
       "      <th></th>\n",
       "      <th></th>\n",
       "      <th></th>\n",
       "      <th></th>\n",
       "      <th></th>\n",
       "    </tr>\n",
       "  </thead>\n",
       "  <tbody>\n",
       "    <tr>\n",
       "      <th>0</th>\n",
       "      <td>1.000000</td>\n",
       "      <td>1.000000</td>\n",
       "      <td>1.000000</td>\n",
       "      <td>1.000000</td>\n",
       "      <td>1.000000</td>\n",
       "      <td>1.000000</td>\n",
       "      <td>1.000000</td>\n",
       "      <td>1.000000</td>\n",
       "      <td>1.000000</td>\n",
       "      <td>1.000000</td>\n",
       "      <td>...</td>\n",
       "      <td>1.000000</td>\n",
       "      <td>1.000000</td>\n",
       "      <td>1.000000</td>\n",
       "      <td>1.000000</td>\n",
       "      <td>1.000000</td>\n",
       "      <td>1.000000</td>\n",
       "      <td>1.000000</td>\n",
       "      <td>1.000000</td>\n",
       "      <td>1.000000</td>\n",
       "      <td>1.000000</td>\n",
       "    </tr>\n",
       "    <tr>\n",
       "      <th>1</th>\n",
       "      <td>0.990507</td>\n",
       "      <td>0.983813</td>\n",
       "      <td>0.966405</td>\n",
       "      <td>0.972490</td>\n",
       "      <td>0.984162</td>\n",
       "      <td>0.959239</td>\n",
       "      <td>0.909210</td>\n",
       "      <td>0.877446</td>\n",
       "      <td>0.895497</td>\n",
       "      <td>0.928130</td>\n",
       "      <td>...</td>\n",
       "      <td>0.968560</td>\n",
       "      <td>0.991682</td>\n",
       "      <td>0.978349</td>\n",
       "      <td>0.983641</td>\n",
       "      <td>0.982507</td>\n",
       "      <td>0.948439</td>\n",
       "      <td>0.989742</td>\n",
       "      <td>0.979411</td>\n",
       "      <td>0.900401</td>\n",
       "      <td>0.951308</td>\n",
       "    </tr>\n",
       "    <tr>\n",
       "      <th>2</th>\n",
       "      <td>0.992650</td>\n",
       "      <td>0.973005</td>\n",
       "      <td>0.994163</td>\n",
       "      <td>0.946928</td>\n",
       "      <td>0.899749</td>\n",
       "      <td>0.926741</td>\n",
       "      <td>0.951697</td>\n",
       "      <td>0.904009</td>\n",
       "      <td>0.796727</td>\n",
       "      <td>0.874451</td>\n",
       "      <td>...</td>\n",
       "      <td>0.950883</td>\n",
       "      <td>0.956052</td>\n",
       "      <td>0.975435</td>\n",
       "      <td>0.964104</td>\n",
       "      <td>0.971843</td>\n",
       "      <td>0.956540</td>\n",
       "      <td>0.961235</td>\n",
       "      <td>0.951345</td>\n",
       "      <td>0.926405</td>\n",
       "      <td>0.932297</td>\n",
       "    </tr>\n",
       "    <tr>\n",
       "      <th>3</th>\n",
       "      <td>0.959887</td>\n",
       "      <td>0.991699</td>\n",
       "      <td>0.966736</td>\n",
       "      <td>0.927229</td>\n",
       "      <td>0.854172</td>\n",
       "      <td>0.978314</td>\n",
       "      <td>0.857724</td>\n",
       "      <td>0.707467</td>\n",
       "      <td>0.729522</td>\n",
       "      <td>0.905576</td>\n",
       "      <td>...</td>\n",
       "      <td>0.946533</td>\n",
       "      <td>0.913566</td>\n",
       "      <td>0.987343</td>\n",
       "      <td>0.989916</td>\n",
       "      <td>0.986632</td>\n",
       "      <td>0.844959</td>\n",
       "      <td>0.784239</td>\n",
       "      <td>0.869382</td>\n",
       "      <td>0.766705</td>\n",
       "      <td>0.730576</td>\n",
       "    </tr>\n",
       "    <tr>\n",
       "      <th>4</th>\n",
       "      <td>0.760536</td>\n",
       "      <td>0.964673</td>\n",
       "      <td>0.922877</td>\n",
       "      <td>0.944610</td>\n",
       "      <td>0.869960</td>\n",
       "      <td>0.885127</td>\n",
       "      <td>0.943967</td>\n",
       "      <td>0.709232</td>\n",
       "      <td>0.711489</td>\n",
       "      <td>0.954040</td>\n",
       "      <td>...</td>\n",
       "      <td>0.963897</td>\n",
       "      <td>0.976743</td>\n",
       "      <td>0.962921</td>\n",
       "      <td>0.973843</td>\n",
       "      <td>0.955989</td>\n",
       "      <td>0.836574</td>\n",
       "      <td>0.778331</td>\n",
       "      <td>0.949840</td>\n",
       "      <td>0.729514</td>\n",
       "      <td>0.776696</td>\n",
       "    </tr>\n",
       "  </tbody>\n",
       "</table>\n",
       "<p>5 rows × 214 columns</p>\n",
       "</div>"
      ],
      "text/plain": [
       "             R1        R2        R3        R4        R5        R6        R7  \\\n",
       "Frame                                                                         \n",
       "0      1.000000  1.000000  1.000000  1.000000  1.000000  1.000000  1.000000   \n",
       "1      0.990507  0.983813  0.966405  0.972490  0.984162  0.959239  0.909210   \n",
       "2      0.992650  0.973005  0.994163  0.946928  0.899749  0.926741  0.951697   \n",
       "3      0.959887  0.991699  0.966736  0.927229  0.854172  0.978314  0.857724   \n",
       "4      0.760536  0.964673  0.922877  0.944610  0.869960  0.885127  0.943967   \n",
       "\n",
       "             R8        R9       R10  ...      R205      R206      R207  \\\n",
       "Frame                                ...                                 \n",
       "0      1.000000  1.000000  1.000000  ...  1.000000  1.000000  1.000000   \n",
       "1      0.877446  0.895497  0.928130  ...  0.968560  0.991682  0.978349   \n",
       "2      0.904009  0.796727  0.874451  ...  0.950883  0.956052  0.975435   \n",
       "3      0.707467  0.729522  0.905576  ...  0.946533  0.913566  0.987343   \n",
       "4      0.709232  0.711489  0.954040  ...  0.963897  0.976743  0.962921   \n",
       "\n",
       "           R208      R209      R210      R211      R212      R213      R214  \n",
       "Frame                                                                        \n",
       "0      1.000000  1.000000  1.000000  1.000000  1.000000  1.000000  1.000000  \n",
       "1      0.983641  0.982507  0.948439  0.989742  0.979411  0.900401  0.951308  \n",
       "2      0.964104  0.971843  0.956540  0.961235  0.951345  0.926405  0.932297  \n",
       "3      0.989916  0.986632  0.844959  0.784239  0.869382  0.766705  0.730576  \n",
       "4      0.973843  0.955989  0.836574  0.778331  0.949840  0.729514  0.776696  \n",
       "\n",
       "[5 rows x 214 columns]"
      ]
     },
     "execution_count": 20,
     "metadata": {},
     "output_type": "execute_result"
    }
   ],
   "source": [
    "fweights = pd.read_csv('adk_wgs.csv')\n",
    "fweights.index.name = 'Frame'\n",
    "fweights.head()"
   ]
  },
  {
   "cell_type": "code",
   "execution_count": 21,
   "id": "432b5483-6362-4e99-9c12-8c2c33d76dba",
   "metadata": {},
   "outputs": [
    {
     "data": {
      "text/plain": [
       "Frame\n",
       "0     1.000000\n",
       "1     1.000000\n",
       "2     0.981308\n",
       "3     0.915888\n",
       "4     0.901869\n",
       "        ...   \n",
       "93    0.359813\n",
       "94    0.341121\n",
       "95    0.373832\n",
       "96    0.355140\n",
       "97    0.341121\n",
       "Length: 98, dtype: float64"
      ]
     },
     "execution_count": 21,
     "metadata": {},
     "output_type": "execute_result"
    }
   ],
   "source": [
    "# For each frame, we obtain the fraction of rigid core\n",
    "frac = fweights.apply( fn , axis=1)\n",
    "frac"
   ]
  },
  {
   "cell_type": "code",
   "execution_count": 22,
   "id": "8c3c86ff-783c-4f46-8563-6d0ca94e7026",
   "metadata": {},
   "outputs": [
    {
     "data": {
      "text/plain": [
       "Text(0.5, 1.0, 'Plot-4')"
      ]
     },
     "execution_count": 22,
     "metadata": {},
     "output_type": "execute_result"
    },
    {
     "data": {
      "image/png": "[encoded data removed]",
      "text/plain": [
       "<Figure size 320x200 with 1 Axes>"
      ]
     },
     "metadata": {},
     "output_type": "display_data"
    }
   ],
   "source": [
    "fig,ax = plt.subplots(1,1, figsize=(3.2,2))\n",
    "sns.lineplot(frac,ax=ax)\n",
    "ax.set_ylabel('Rigidity')\n",
    "ax.axhline(0.4,ls='--')\n",
    "ax.set_title('Plot-4')"
   ]
  },
  {
   "cell_type": "code",
   "execution_count": 28,
   "id": "b3e2503a-97a4-4473-be40-e236e779bad7",
   "metadata": {},
   "outputs": [
    {
     "data": {
      "text/plain": [
       "array([  1,   2,   3,   4,   5,   6,   7,   8,   9,  10,  11,  12,  13,\n",
       "        14,  15,  16,  17,  18,  19,  20,  21,  22,  23,  24,  25,  26,\n",
       "        27,  28,  29,  30,  31,  32,  33,  34,  35,  36,  37,  38,  39,\n",
       "        40,  41,  42,  43,  44,  45,  46,  47,  48,  49,  50,  51,  52,\n",
       "        53,  54,  55,  56,  57,  58,  59,  60,  61,  62,  63,  64,  65,\n",
       "        66,  67,  68,  69,  70,  71,  72,  73,  74,  75,  76,  77,  78,\n",
       "        79,  80,  81,  82,  83,  84,  85,  86,  87,  88,  89,  90,  91,\n",
       "        92,  93,  94,  95,  96,  97,  98,  99, 100, 101, 102, 103, 104,\n",
       "       105, 106, 107, 108, 109, 110, 111, 112, 113, 114, 115, 116, 117,\n",
       "       118, 119, 120, 121, 122, 123, 124, 125, 126, 127, 128, 129, 130,\n",
       "       131, 132, 133, 134, 135, 136, 137, 138, 139, 140, 141, 142, 143,\n",
       "       144, 145, 146, 147, 148, 149, 150, 151, 152, 153, 154, 155, 156,\n",
       "       157, 158, 159, 160, 161, 162, 163, 164, 165, 166, 167, 168, 169,\n",
       "       170, 171, 172, 173, 174, 175, 176, 177, 178, 179, 180, 181, 182,\n",
       "       183, 184, 185, 186, 187, 188, 189, 190, 191, 192, 193, 194, 195,\n",
       "       196, 197, 198, 199, 200, 201, 202, 203, 204, 205, 206, 207, 208,\n",
       "       209, 210, 211, 212, 213, 214])"
      ]
     },
     "execution_count": 28,
     "metadata": {},
     "output_type": "execute_result"
    }
   ],
   "source": [
    "# Extract residue numbers of the protein\n",
    "trj_fit.residues.resids"
   ]
  },
  {
   "cell_type": "code",
   "execution_count": 29,
   "id": "ffdf42da-5a2e-401b-a2fe-6aa5956b2421",
   "metadata": {},
   "outputs": [
    {
     "data": {
      "text/plain": [
       "1      0.887755\n",
       "2      0.959184\n",
       "3      1.000000\n",
       "4      0.969388\n",
       "5      0.704082\n",
       "         ...   \n",
       "210    0.326531\n",
       "211    0.306122\n",
       "212    0.367347\n",
       "213    0.183673\n",
       "214    0.122449\n",
       "Length: 214, dtype: float64"
      ]
     },
     "execution_count": 29,
     "metadata": {},
     "output_type": "execute_result"
    }
   ],
   "source": [
    "# Here, for each atom, we estimate to what percentage it stays within 1.2 Ang displacement\n",
    "Byres = fweights.apply( fn )\n",
    "Byres.index = trj_fit.residues.resids\n",
    "Byres"
   ]
  },
  {
   "cell_type": "code",
   "execution_count": 30,
   "id": "851c508a-64e9-40bc-8b80-a125997aa96f",
   "metadata": {},
   "outputs": [
    {
     "data": {
      "text/plain": [
       "Text(0.5, 1.0, 'Plot-5')"
      ]
     },
     "execution_count": 30,
     "metadata": {},
     "output_type": "execute_result"
    },
    {
     "data": {
      "image/png": "[encoded data removed]",
      "text/plain": [
       "<Figure size 720x200 with 1 Axes>"
      ]
     },
     "metadata": {},
     "output_type": "display_data"
    }
   ],
   "source": [
    "fig,ax = plt.subplots(1,1, figsize=(7.2,2))\n",
    "sns.lineplot(Byres,ax=ax)\n",
    "ax.set_ylabel('Rigidity')\n",
    "ax.axhline(0.4,ls='--')\n",
    "ax.set_xticks( range(1,215,15))\n",
    "ax.set_xlabel('Residue id')\n",
    "ax.set_title('Plot-5')"
   ]
  },
  {
   "cell_type": "code",
   "execution_count": 32,
   "id": "8bd55330-dba4-43ac-b7ef-f0b344c665ec",
   "metadata": {},
   "outputs": [
    {
     "data": {
      "application/vnd.jupyter.widget-view+json": {
       "model_id": "2cf17e68416f4b54bc26c757acea2e7b",
       "version_major": 2,
       "version_minor": 0
      },
      "text/plain": [
       "NGLWidget(background='black', max_frame=97)"
      ]
     },
     "metadata": {},
     "output_type": "display_data"
    }
   ],
   "source": [
    "# Visualize the gaussfit traj, highlight rigid segments in green, whilst mobile as red\n",
    "view = set_view( nv.show_mdanalysis( trj_fit) )\n",
    "view.add_cartoon('all',color='green')\n",
    "# From Plot5, we color two regions of less rigidity\n",
    "view.add_cartoon('36-70',color='red')\n",
    "view.add_cartoon('116-163',color='red')\n",
    "view"
   ]
  },
  {
   "cell_type": "markdown",
   "id": "8d94d993-2c67-4959-bed3-70cf85039243",
   "metadata": {},
   "source": [
    "#### **Inferences**\n",
    "\n",
    "- The reduction in stiffness as a function of simulation time correlates with the conformational transition (plot 4).\n",
    "- Quantification of the stiffness at the residue level (plot 5) and visual inspection of the gauss-fit trajectory (trj_fit) highlight the most mobile segments (black bands), which show hinge motion at the conformational transition."
   ]
  }
 ],
 "metadata": {
  "kernelspec": {
   "display_name": "MDTOOLS",
   "language": "python",
   "name": "mdtools"
  },
  "language_info": {
   "codemirror_mode": {
    "name": "ipython",
    "version": 3
   },
   "file_extension": ".py",
   "mimetype": "text/x-python",
   "name": "python",
   "nbconvert_exporter": "python",
   "pygments_lexer": "ipython3",
   "version": "3.10.0"
  }
 },
 "nbformat": 4,
 "nbformat_minor": 5
}
