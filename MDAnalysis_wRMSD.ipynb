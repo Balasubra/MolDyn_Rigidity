{
 "cells": [
  {
   "cell_type": "markdown",
   "id": "9e7ef005-a6bf-4aad-8d92-9589c5e0f278",
   "metadata": {},
   "source": [
    "#### Do imports"
   ]
  },
  {
   "cell_type": "code",
   "execution_count": 1,
   "id": "505eceed-3b9f-4505-9122-7dc26eb27a91",
   "metadata": {},
   "outputs": [
    {
     "name": "stdout",
     "output_type": "stream",
     "text": [
      "Using MDAnalysis version 2.4.2\n"
     ]
    },
    {
     "data": {
      "application/vnd.jupyter.widget-view+json": {
       "model_id": "b6f11cf3f4eb4e6c965653ec9c3367b4",
       "version_major": 2,
       "version_minor": 0
      },
      "text/plain": []
     },
     "metadata": {},
     "output_type": "display_data"
    }
   ],
   "source": [
    "# Import MDAnalysis tools \n",
    "import MDAnalysis as mda\n",
    "from MDAnalysis.analysis import align\n",
    "from MDAnalysis.analysis.base import AnalysisFromFunction\n",
    "\n",
    "print(\"Using MDAnalysis version\", mda.__version__)\n",
    "# Import MDAnalysis test trajectory\n",
    "from MDAnalysis.tests.datafiles import PSF, DCD\n",
    "\n",
    "# To view molecules on notebook\n",
    "import nglview as nv"
   ]
  },
  {
   "cell_type": "code",
   "execution_count": 3,
   "id": "6b22d330-13d6-4730-80f7-8576b8aed0f6",
   "metadata": {},
   "outputs": [],
   "source": [
    "# Plotting tools\n",
    "import matplotlib.pyplot as plt\n",
    "import seaborn as sns"
   ]
  },
  {
   "cell_type": "code",
   "execution_count": 4,
   "id": "e3397108-d881-4ead-85fb-2e13fdc4769c",
   "metadata": {},
   "outputs": [],
   "source": [
    "# Data processing\n",
    "import pandas as pd\n",
    "import numpy as np\n",
    "np.set_printoptions(suppress=True)  #Suppress scientific notation"
   ]
  },
  {
   "cell_type": "code",
   "execution_count": 5,
   "id": "63f5b926-a50c-47f7-a6de-d3237a039cba",
   "metadata": {},
   "outputs": [],
   "source": [
    "# Remove warnings\n",
    "import warnings\n",
    "warnings.filterwarnings('ignore')\n",
    "\n",
    "#Change working directory to current directory\n",
    "import os\n",
    "os.chdir(os.getcwd() )"
   ]
  },
  {
   "cell_type": "code",
   "execution_count": 7,
   "id": "518191e0-bb47-4fce-ab5a-060bc320a2c7",
   "metadata": {},
   "outputs": [],
   "source": [
    "# View traj with nglview\n",
    "def call_ngl( univ ):\n",
    "    view = nv.show_mdanalysis( univ )\n",
    "    view.clear_representations()\n",
    "    view.add_cartoon('all', color='green')\n",
    "    \n",
    "    view.camera = 'orthographic'\n",
    "    view.background = 'white'\n",
    "    view.layout.width='63%'\n",
    "    view.layout.heigth='50%'\n",
    "    \n",
    "    \n",
    "    return view"
   ]
  },
  {
   "cell_type": "markdown",
   "id": "acaa8d4d-baa0-4fe4-8039-0cdd85d32e95",
   "metadata": {},
   "source": [
    "## Gauss-weighted RMSD: Define the custom functions\n",
    "- This section defines two functions\n",
    "    1. **gweights**: Calculates the weights using Gaussian factor\n",
    "    2. **gfit**    : Performs weighted alignment\n",
    "- On applying `gfit` to the trajectory, following values are obtained for each frame\n",
    "    1. Atomic positions after weighted fit\n",
    "    2. Standard RMSD (sRMSD)\n",
    "    3. Weighted RMSD (wRMSD)\n",
    "    4. No.of steps for wRMSD convergence (Conv)\n",
    "    5. Final weights for all $C_{\\alpha}$ atoms"
   ]
  },
  {
   "cell_type": "code",
   "execution_count": 8,
   "id": "a2f29d91-6e1c-417f-979b-a0c906e779bb",
   "metadata": {},
   "outputs": [],
   "source": [
    "def gweights(a,b,sfactor=5.0):\n",
    "    # a and b are atomic positions arrays\n",
    "    a= np.asarray(a , dtype=np.float64)\n",
    "    b= np.asarray(b , dtype=np.float64)\n",
    "    # Obtain squared displacement\n",
    "    d = (b - a)**2\n",
    "    dsum = d.sum(axis=1)\n",
    "    return np.exp(-(dsum)/sfactor)\n",
    "\n",
    "def gfit( Mgroup , Rgroup , sel='name CA' ) :\n",
    "    sel_ind = np.where( Mgroup.names == 'CA')\n",
    "    natoms = sel_ind[0].size\n",
    "    # Initially assign weights = 1 to all CA atoms\n",
    "    Ws = np.ones( natoms )\n",
    "    wRMS, sRMS, Conv = 90, 0 ,0 \n",
    "    # Assigin upto 500 iterations\n",
    "    for i in range(500):\n",
    "        # alinto returns rot.matrixs and RMSD\n",
    "        R, RMSD = align.alignto(Mgroup,Rgroup,select=sel,weights=Ws)\n",
    "        a = Mgroup.positions[sel_ind]\n",
    "        b = Rgroup.positions[sel_ind]\n",
    "        \n",
    "        if i==0: \n",
    "            # RMSD in first iteration provides std.rmsd\n",
    "            sRMS = RMSD\n",
    "        # Update weights\n",
    "        Ws = gweights(a,b)\n",
    "        \n",
    "        # Check convergence\n",
    "        if (wRMS - RMSD) < 0.0001:\n",
    "            print( f'Convergence reached @ {i+1} iterations')\n",
    "            Conv = i+1\n",
    "            break\n",
    "        \n",
    "        wRMS = RMSD\n",
    "        \n",
    "    return Mgroup.positions,sRMS, wRMS,Conv,Ws   "
   ]
  },
  {
   "cell_type": "markdown",
   "id": "80c016c3-3123-4063-a991-58f0b8ff9f71",
   "metadata": {},
   "source": [
    "#### Set Input trj and ref. structures"
   ]
  },
  {
   "cell_type": "code",
   "execution_count": 9,
   "id": "da54ec6d-40e1-4331-8474-baf84bbae208",
   "metadata": {},
   "outputs": [
    {
     "data": {
      "text/plain": [
       "'MDA_wRMSD.gfit.xtc'"
      ]
     },
     "execution_count": 9,
     "metadata": {},
     "output_type": "execute_result"
    }
   ],
   "source": [
    "## Define files here\n",
    "finp_ref   = PSF               # Provide input topology/gro/pdb\n",
    "finp_trj   = DCD               # Provide input traj\n",
    "\n",
    "# Prefix directory to save output          \n",
    "pref = f\"MDA_wRMSD\"             # change\n",
    "\n",
    "fout_gus   =   f\"{pref}.RMSD.csv\"          # rmsd output file\n",
    "fout_wei   =   f\"{pref}.WEIG.csv\"\n",
    "fout_trj   =   f\"{pref}.gfit.xtc\"\n",
    "fout_trj"
   ]
  },
  {
   "cell_type": "code",
   "execution_count": 10,
   "id": "5f4ea7ff-beb8-4d30-b9a7-2f5bcb47c9f5",
   "metadata": {},
   "outputs": [
    {
     "data": {
      "text/plain": [
       "<DCDReader /work/apps/MCONDA3/envs/MDTOOLS/lib/python3.9/site-packages/MDAnalysisTests/data/adk_dims.dcd with 98 frames of 3341 atoms>"
      ]
     },
     "execution_count": 10,
     "metadata": {},
     "output_type": "execute_result"
    }
   ],
   "source": [
    "U = mda.Universe( finp_ref , finp_trj )\n",
    "#Save the first snapshot as reference\n",
    "U.atoms.write('Refstr.pdb')\n",
    "Ref = mda.Universe( 'Refstr.pdb' )\n",
    "U.trajectory"
   ]
  },
  {
   "cell_type": "markdown",
   "id": "df2c5f4c-67c3-4c9a-a3ca-297c776130c3",
   "metadata": {},
   "source": [
    "#### We view the input traj with nglview"
   ]
  },
  {
   "cell_type": "code",
   "execution_count": 11,
   "id": "ea415e28-8337-48ed-9162-09dd98f74943",
   "metadata": {},
   "outputs": [
    {
     "data": {
      "application/vnd.jupyter.widget-view+json": {
       "model_id": "b6cf1e33fc66443d9a5739515adc73b3",
       "version_major": 2,
       "version_minor": 0
      },
      "text/plain": [
       "NGLWidget(layout=Layout(width='63%'), max_frame=97)"
      ]
     },
     "metadata": {},
     "output_type": "display_data"
    }
   ],
   "source": [
    "view = call_ngl( U )\n",
    "view"
   ]
  },
  {
   "cell_type": "markdown",
   "id": "a6152f8f-f2d4-429c-9fba-27486dcbe997",
   "metadata": {},
   "source": [
    "#### Applying `gfit` over all frames\n",
    "\n",
    "- The `gfit` function requires mobile & reference atomgroups as inputs\n",
    "- Here, we set both mobile and reference atomgroups to `all`"
   ]
  },
  {
   "cell_type": "code",
   "execution_count": 12,
   "id": "3fbf0b2d-182f-4326-9175-9583621a836b",
   "metadata": {},
   "outputs": [],
   "source": [
    "Mobile = U.select_atoms( 'all' ) \n",
    "reference = Ref.select_atoms( 'all' )"
   ]
  },
  {
   "cell_type": "markdown",
   "id": "438ab295-699b-4eac-807f-f60cd7131232",
   "metadata": {},
   "source": [
    "- The `AnalysisFromFunction` class applies the gfit function on each frame.\n",
    "- The gauss.run() method accepts also start and stop frames.\n",
    "   - Following cell may take a while depending on traj length"
   ]
  },
  {
   "cell_type": "code",
   "execution_count": 13,
   "id": "04b649af-4d49-4c23-b767-97ed7b50493a",
   "metadata": {},
   "outputs": [
    {
     "name": "stdout",
     "output_type": "stream",
     "text": [
      "Convergence reached @ 2 iterations\n",
      "Convergence reached @ 3 iterations\n",
      "Convergence reached @ 4 iterations\n",
      "Convergence reached @ 4 iterations\n",
      "Convergence reached @ 5 iterations\n",
      "Convergence reached @ 6 iterations\n",
      "Convergence reached @ 6 iterations\n",
      "Convergence reached @ 7 iterations\n",
      "Convergence reached @ 7 iterations\n",
      "Convergence reached @ 8 iterations\n",
      "Convergence reached @ 8 iterations\n",
      "Convergence reached @ 8 iterations\n",
      "Convergence reached @ 8 iterations\n",
      "Convergence reached @ 9 iterations\n",
      "Convergence reached @ 7 iterations\n",
      "Convergence reached @ 7 iterations\n",
      "Convergence reached @ 7 iterations\n",
      "Convergence reached @ 6 iterations\n",
      "Convergence reached @ 6 iterations\n",
      "Convergence reached @ 6 iterations\n",
      "Convergence reached @ 6 iterations\n",
      "Convergence reached @ 6 iterations\n",
      "Convergence reached @ 6 iterations\n",
      "Convergence reached @ 6 iterations\n",
      "Convergence reached @ 6 iterations\n",
      "Convergence reached @ 6 iterations\n",
      "Convergence reached @ 6 iterations\n",
      "Convergence reached @ 6 iterations\n",
      "Convergence reached @ 5 iterations\n",
      "Convergence reached @ 5 iterations\n",
      "Convergence reached @ 5 iterations\n",
      "Convergence reached @ 6 iterations\n",
      "Convergence reached @ 6 iterations\n",
      "Convergence reached @ 5 iterations\n",
      "Convergence reached @ 5 iterations\n",
      "Convergence reached @ 5 iterations\n",
      "Convergence reached @ 5 iterations\n",
      "Convergence reached @ 5 iterations\n",
      "Convergence reached @ 6 iterations\n",
      "Convergence reached @ 6 iterations\n",
      "Convergence reached @ 7 iterations\n",
      "Convergence reached @ 12 iterations\n",
      "Convergence reached @ 14 iterations\n",
      "Convergence reached @ 7 iterations\n",
      "Convergence reached @ 6 iterations\n",
      "Convergence reached @ 6 iterations\n",
      "Convergence reached @ 13 iterations\n",
      "Convergence reached @ 12 iterations\n",
      "Convergence reached @ 8 iterations\n",
      "Convergence reached @ 8 iterations\n",
      "Convergence reached @ 15 iterations\n",
      "Convergence reached @ 14 iterations\n",
      "Convergence reached @ 14 iterations\n",
      "Convergence reached @ 14 iterations\n",
      "Convergence reached @ 13 iterations\n",
      "Convergence reached @ 14 iterations\n",
      "Convergence reached @ 14 iterations\n",
      "Convergence reached @ 14 iterations\n",
      "Convergence reached @ 14 iterations\n",
      "Convergence reached @ 14 iterations\n",
      "Convergence reached @ 14 iterations\n",
      "Convergence reached @ 14 iterations\n",
      "Convergence reached @ 13 iterations\n",
      "Convergence reached @ 14 iterations\n",
      "Convergence reached @ 14 iterations\n",
      "Convergence reached @ 14 iterations\n",
      "Convergence reached @ 14 iterations\n",
      "Convergence reached @ 4 iterations\n",
      "Convergence reached @ 4 iterations\n",
      "Convergence reached @ 3 iterations\n",
      "Convergence reached @ 4 iterations\n",
      "Convergence reached @ 3 iterations\n",
      "Convergence reached @ 3 iterations\n",
      "Convergence reached @ 3 iterations\n",
      "Convergence reached @ 13 iterations\n",
      "Convergence reached @ 3 iterations\n",
      "Convergence reached @ 4 iterations\n",
      "Convergence reached @ 4 iterations\n",
      "Convergence reached @ 3 iterations\n",
      "Convergence reached @ 3 iterations\n",
      "Convergence reached @ 3 iterations\n",
      "Convergence reached @ 3 iterations\n",
      "Convergence reached @ 3 iterations\n",
      "Convergence reached @ 3 iterations\n",
      "Convergence reached @ 3 iterations\n",
      "Convergence reached @ 3 iterations\n",
      "Convergence reached @ 3 iterations\n",
      "Convergence reached @ 3 iterations\n",
      "Convergence reached @ 3 iterations\n",
      "Convergence reached @ 3 iterations\n",
      "Convergence reached @ 3 iterations\n",
      "Convergence reached @ 3 iterations\n",
      "Convergence reached @ 3 iterations\n",
      "Convergence reached @ 4 iterations\n",
      "Convergence reached @ 3 iterations\n",
      "Convergence reached @ 4 iterations\n",
      "Convergence reached @ 3 iterations\n",
      "Convergence reached @ 3 iterations\n",
      "All Done\n"
     ]
    }
   ],
   "source": [
    "gauss = AnalysisFromFunction(gfit, U.trajectory, Mobile, reference)\n",
    "gauss.run()\n",
    "print('All Done')"
   ]
  },
  {
   "cell_type": "markdown",
   "id": "8847c56d-c7b2-405c-9b74-779fbf101685",
   "metadata": {},
   "source": [
    "- gauss attribute called `gauss.results` holds all the return values of `gfit` function\n",
    "- To extract data from `gauss.results`, we use pandas dataframe\n",
    "    - col1: standard rmsd (sRMSD)\n",
    "    - col2: weighted rmsd (wRMSD)\n",
    "    - col3: Number of steps for convergence"
   ]
  },
  {
   "cell_type": "code",
   "execution_count": 14,
   "id": "27258e14-f19a-44fe-a5e1-5a380cd45756",
   "metadata": {},
   "outputs": [
    {
     "data": {
      "text/plain": [
       "array([[array([[ 11.736036 ,   8.500812 , -10.445283 ],\n",
       "               [ 12.36511  ,   7.839949 , -10.8348465],\n",
       "               [ 12.091942 ,   9.441549 , -10.724612 ],\n",
       "               ...,\n",
       "               [  6.5126114,  18.447031 ,  -7.1340327],\n",
       "               [  6.3001933,  19.3635   ,  -7.9358935],\n",
       "               [  5.585408 ,  17.589638 ,  -6.9656415]], dtype=float32),\n",
       "        0.0004993655688250263, 0.0004993655688250263, 2,\n",
       "        array([0.99999991, 0.99999991, 0.99999998, 0.99999998, 0.99999997,\n",
       "               0.99999988, 0.99999993, 0.99999994, 0.99999996, 0.99999998,\n",
       "               0.99999993, 0.99999996, 0.99999996, 0.99999993, 0.99999997,\n",
       "               0.99999998, 0.99999991, 0.99999997, 0.99999999, 0.99999989,\n",
       "               0.99999998, 0.99999999, 0.99999998, 0.99999986, 0.9999999 ,\n",
       "               0.99999994, 0.99999995, 0.99999997, 0.99999997, 0.99999991,\n",
       "               0.99999999, 0.99999998, 0.99999996, 0.99999993, 0.99999995,\n",
       "               0.99999998, 0.99999998, 0.99999996, 0.99999998, 0.99999995,\n",
       "               0.99999994, 0.99999994, 0.99999997, 0.99999999, 0.99999996,\n",
       "               0.99999989, 0.99999998, 0.99999997, 0.99999996, 0.9999999 ,\n",
       "               0.99999998, 0.99999996, 0.99999998, 0.99999997, 0.99999997,\n",
       "               0.99999996, 0.99999995, 0.99999992, 0.99999997, 0.99999994,\n",
       "               1.        , 0.99999994, 0.99999993, 0.99999996, 0.99999997,\n",
       "               0.99999997, 0.99999994, 0.99999991, 0.99999995, 0.99999995,\n",
       "               0.99999991, 0.99999999, 0.99999993, 0.99999999, 0.99999993,\n",
       "               0.99999995, 0.99999994, 0.99999995, 0.99999996, 0.99999995,\n",
       "               0.99999993, 0.99999996, 0.99999998, 0.99999993, 0.99999993,\n",
       "               0.99999995, 0.99999994, 0.99999999, 0.99999991, 0.99999992,\n",
       "               0.99999993, 0.99999997, 0.99999997, 0.99999995, 0.9999999 ,\n",
       "               0.99999997, 0.99999997, 0.99999995, 0.99999997, 0.99999995,\n",
       "               0.99999997, 0.99999997, 0.99999994, 0.99999996, 0.99999998,\n",
       "               0.99999995, 0.99999994, 0.99999995, 0.99999991, 0.99999993,\n",
       "               0.99999994, 0.99999988, 0.99999997, 0.99999992, 0.99999997,\n",
       "               0.99999991, 0.99999994, 0.99999994, 0.99999994, 0.99999991,\n",
       "               0.99999996, 0.99999994, 0.9999999 , 0.99999996, 0.99999994,\n",
       "               0.99999991, 0.99999998, 0.99999998, 0.99999996, 0.99999997,\n",
       "               0.99999997, 0.99999996, 1.        , 0.99999996, 0.99999998,\n",
       "               0.99999999, 0.99999996, 0.99999999, 0.9999999 , 0.99999996,\n",
       "               0.99999993, 0.99999995, 0.99999993, 0.99999991, 0.99999994,\n",
       "               0.99999991, 0.99999998, 0.99999996, 0.99999992, 0.99999995,\n",
       "               0.99999993, 0.99999998, 0.99999995, 0.99999994, 0.99999995,\n",
       "               0.99999994, 0.99999991, 0.99999996, 0.99999993, 0.99999991,\n",
       "               0.99999998, 0.99999994, 0.99999998, 0.99999991, 0.99999994,\n",
       "               0.99999995, 0.99999992, 0.99999999, 0.99999995, 0.99999994,\n",
       "               0.99999992, 0.99999999, 1.        , 0.99999995, 0.99999999,\n",
       "               0.99999995, 0.99999993, 0.99999997, 0.99999997, 0.99999997,\n",
       "               0.99999996, 0.99999995, 0.99999997, 0.99999988, 0.99999992,\n",
       "               0.99999994, 0.99999992, 0.99999997, 0.99999995, 0.99999995,\n",
       "               0.99999995, 0.99999991, 0.99999993, 0.99999995, 0.99999989,\n",
       "               0.99999996, 0.99999994, 0.99999997, 0.99999996, 0.99999997,\n",
       "               0.99999993, 0.99999997, 1.        , 0.99999997, 0.99999995,\n",
       "               0.99999991, 0.99999993, 0.99999996, 0.99999999, 0.99999995,\n",
       "               0.99999995, 0.99999998, 0.99999999, 0.99999995])           ]],\n",
       "      dtype=object)"
      ]
     },
     "execution_count": 14,
     "metadata": {},
     "output_type": "execute_result"
    }
   ],
   "source": [
    "# Print gauss.results\n",
    "gauss.results['timeseries'][:1]"
   ]
  },
  {
   "cell_type": "code",
   "execution_count": 15,
   "id": "4272d468-c1b0-4c98-864a-4c089644a337",
   "metadata": {},
   "outputs": [
    {
     "name": "stdout",
     "output_type": "stream",
     "text": [
      "Type of timeseries: <class 'numpy.ndarray'> \n"
     ]
    }
   ],
   "source": [
    "# gauss.results\n",
    "print( f\"Type of timeseries: { type(gauss.results['timeseries'] ) } \")"
   ]
  },
  {
   "cell_type": "markdown",
   "id": "60b8824f-ae7d-46e7-857a-a695382005cc",
   "metadata": {},
   "source": [
    "- `Two dataframes` are created\n",
    "    - **df_gauss**: Stores sRMSD,wRMSD\n",
    "    - **df_weigh**: Stores final weights for each $C_{\\alpha}$ atom"
   ]
  },
  {
   "cell_type": "code",
   "execution_count": 16,
   "id": "c30f3c38-5ea4-4e4c-a3c0-261f205cc656",
   "metadata": {},
   "outputs": [
    {
     "data": {
      "text/html": [
       "<div>\n",
       "<style scoped>\n",
       "    .dataframe tbody tr th:only-of-type {\n",
       "        vertical-align: middle;\n",
       "    }\n",
       "\n",
       "    .dataframe tbody tr th {\n",
       "        vertical-align: top;\n",
       "    }\n",
       "\n",
       "    .dataframe thead th {\n",
       "        text-align: right;\n",
       "    }\n",
       "</style>\n",
       "<table border=\"1\" class=\"dataframe\">\n",
       "  <thead>\n",
       "    <tr style=\"text-align: right;\">\n",
       "      <th></th>\n",
       "      <th>sRMSD</th>\n",
       "      <th>wRMSD</th>\n",
       "      <th>Conv</th>\n",
       "    </tr>\n",
       "    <tr>\n",
       "      <th>Time</th>\n",
       "      <th></th>\n",
       "      <th></th>\n",
       "      <th></th>\n",
       "    </tr>\n",
       "  </thead>\n",
       "  <tbody>\n",
       "    <tr>\n",
       "      <th>0.001</th>\n",
       "      <td>0.000499</td>\n",
       "      <td>0.000499</td>\n",
       "      <td>2</td>\n",
       "    </tr>\n",
       "    <tr>\n",
       "      <th>0.002</th>\n",
       "      <td>0.423478</td>\n",
       "      <td>0.417808</td>\n",
       "      <td>3</td>\n",
       "    </tr>\n",
       "    <tr>\n",
       "      <th>0.003</th>\n",
       "      <td>0.593694</td>\n",
       "      <td>0.574287</td>\n",
       "      <td>4</td>\n",
       "    </tr>\n",
       "    <tr>\n",
       "      <th>0.004</th>\n",
       "      <td>0.736876</td>\n",
       "      <td>0.69794</td>\n",
       "      <td>4</td>\n",
       "    </tr>\n",
       "    <tr>\n",
       "      <th>0.005</th>\n",
       "      <td>0.827748</td>\n",
       "      <td>0.765723</td>\n",
       "      <td>5</td>\n",
       "    </tr>\n",
       "    <tr>\n",
       "      <th>...</th>\n",
       "      <td>...</td>\n",
       "      <td>...</td>\n",
       "      <td>...</td>\n",
       "    </tr>\n",
       "    <tr>\n",
       "      <th>0.094</th>\n",
       "      <td>6.811022</td>\n",
       "      <td>1.216995</td>\n",
       "      <td>4</td>\n",
       "    </tr>\n",
       "    <tr>\n",
       "      <th>0.095</th>\n",
       "      <td>6.799462</td>\n",
       "      <td>1.191228</td>\n",
       "      <td>3</td>\n",
       "    </tr>\n",
       "    <tr>\n",
       "      <th>0.096</th>\n",
       "      <td>6.802843</td>\n",
       "      <td>1.226798</td>\n",
       "      <td>4</td>\n",
       "    </tr>\n",
       "    <tr>\n",
       "      <th>0.097</th>\n",
       "      <td>6.813548</td>\n",
       "      <td>1.20539</td>\n",
       "      <td>3</td>\n",
       "    </tr>\n",
       "    <tr>\n",
       "      <th>0.098</th>\n",
       "      <td>6.814432</td>\n",
       "      <td>1.20347</td>\n",
       "      <td>3</td>\n",
       "    </tr>\n",
       "  </tbody>\n",
       "</table>\n",
       "<p>98 rows × 3 columns</p>\n",
       "</div>"
      ],
      "text/plain": [
       "          sRMSD     wRMSD Conv\n",
       "Time                          \n",
       "0.001  0.000499  0.000499    2\n",
       "0.002  0.423478  0.417808    3\n",
       "0.003  0.593694  0.574287    4\n",
       "0.004  0.736876   0.69794    4\n",
       "0.005  0.827748  0.765723    5\n",
       "...         ...       ...  ...\n",
       "0.094  6.811022  1.216995    4\n",
       "0.095  6.799462  1.191228    3\n",
       "0.096  6.802843  1.226798    4\n",
       "0.097  6.813548   1.20539    3\n",
       "0.098  6.814432   1.20347    3\n",
       "\n",
       "[98 rows x 3 columns]"
      ]
     },
     "execution_count": 16,
     "metadata": {},
     "output_type": "execute_result"
    }
   ],
   "source": [
    "df_gauss = pd.DataFrame()\n",
    "df_gauss['Time']    =  gauss.results['times']/1000.0     #Time in ns\n",
    "df_gauss['sRMSD']   =  gauss.results['timeseries'][:,1]\n",
    "df_gauss['wRMSD']   =  gauss.results['timeseries'][:,2]\n",
    "df_gauss['Conv']    =  gauss.results['timeseries'][:,3] \n",
    "\n",
    "df_gauss.set_index( 'Time', inplace=True)\n",
    "df_gauss"
   ]
  },
  {
   "cell_type": "code",
   "execution_count": 17,
   "id": "4166dca2-bcb6-4d88-aa13-7ee214b1af22",
   "metadata": {},
   "outputs": [],
   "source": [
    "# Write csv output\n",
    "df_gauss.to_csv( fout_gus , index_label='Time')"
   ]
  },
  {
   "cell_type": "markdown",
   "id": "3bca3192-aa19-42f8-ab6a-8b3d36597242",
   "metadata": {},
   "source": [
    "- Here, we extract final `weights` for each $C_{\\alpha}$ atoms"
   ]
  },
  {
   "cell_type": "code",
   "execution_count": 18,
   "id": "85cf618a-306e-4972-8136-e9bcb4a489ad",
   "metadata": {},
   "outputs": [
    {
     "data": {
      "text/plain": [
       "98"
      ]
     },
     "execution_count": 18,
     "metadata": {},
     "output_type": "execute_result"
    }
   ],
   "source": [
    "nframes = gauss.results['timeseries'].shape[0]\n",
    "nframes"
   ]
  },
  {
   "cell_type": "code",
   "execution_count": 19,
   "id": "3d285c0e-f9c3-4fe0-85a0-31196f4b17ff",
   "metadata": {},
   "outputs": [
    {
     "data": {
      "text/plain": [
       "214"
      ]
     },
     "execution_count": 19,
     "metadata": {},
     "output_type": "execute_result"
    }
   ],
   "source": [
    "natoms = gauss.results['timeseries'][0,4].T.shape[0]\n",
    "natoms"
   ]
  },
  {
   "cell_type": "code",
   "execution_count": 56,
   "id": "933e5612-37f0-49cf-86fb-45df98ce5d59",
   "metadata": {},
   "outputs": [
    {
     "data": {
      "text/plain": [
       "'shape of weight arrays: (98, 214)'"
      ]
     },
     "execution_count": 56,
     "metadata": {},
     "output_type": "execute_result"
    }
   ],
   "source": [
    "# Extracting weights from timeseries data\n",
    "arr_ws  = np.empty( (nframes,natoms) )\n",
    "f\"shape of weight arrays: {arr_ws.shape}\""
   ]
  },
  {
   "cell_type": "code",
   "execution_count": 58,
   "id": "577e81c3-45dc-48b0-9a92-aad73ab0763e",
   "metadata": {},
   "outputs": [],
   "source": [
    "arr_ws  = np.empty( (nframes,natoms) )\n",
    "bb = [ gauss.results['timeseries'][i,4].T for i in range(nframes) ]\n",
    "arr_ws[:] = bb"
   ]
  },
  {
   "cell_type": "code",
   "execution_count": 60,
   "id": "5adf7600-2498-46fc-9844-574da95f724f",
   "metadata": {},
   "outputs": [
    {
     "data": {
      "text/html": [
       "<div>\n",
       "<style scoped>\n",
       "    .dataframe tbody tr th:only-of-type {\n",
       "        vertical-align: middle;\n",
       "    }\n",
       "\n",
       "    .dataframe tbody tr th {\n",
       "        vertical-align: top;\n",
       "    }\n",
       "\n",
       "    .dataframe thead th {\n",
       "        text-align: right;\n",
       "    }\n",
       "</style>\n",
       "<table border=\"1\" class=\"dataframe\">\n",
       "  <thead>\n",
       "    <tr style=\"text-align: right;\">\n",
       "      <th></th>\n",
       "      <th>R1</th>\n",
       "      <th>R2</th>\n",
       "      <th>R3</th>\n",
       "      <th>R4</th>\n",
       "      <th>R5</th>\n",
       "      <th>R6</th>\n",
       "      <th>R7</th>\n",
       "      <th>R8</th>\n",
       "      <th>R9</th>\n",
       "      <th>R10</th>\n",
       "      <th>...</th>\n",
       "      <th>R205</th>\n",
       "      <th>R206</th>\n",
       "      <th>R207</th>\n",
       "      <th>R208</th>\n",
       "      <th>R209</th>\n",
       "      <th>R210</th>\n",
       "      <th>R211</th>\n",
       "      <th>R212</th>\n",
       "      <th>R213</th>\n",
       "      <th>R214</th>\n",
       "    </tr>\n",
       "    <tr>\n",
       "      <th>Time</th>\n",
       "      <th></th>\n",
       "      <th></th>\n",
       "      <th></th>\n",
       "      <th></th>\n",
       "      <th></th>\n",
       "      <th></th>\n",
       "      <th></th>\n",
       "      <th></th>\n",
       "      <th></th>\n",
       "      <th></th>\n",
       "      <th></th>\n",
       "      <th></th>\n",
       "      <th></th>\n",
       "      <th></th>\n",
       "      <th></th>\n",
       "      <th></th>\n",
       "      <th></th>\n",
       "      <th></th>\n",
       "      <th></th>\n",
       "      <th></th>\n",
       "      <th></th>\n",
       "    </tr>\n",
       "  </thead>\n",
       "  <tbody>\n",
       "    <tr>\n",
       "      <th>0.001</th>\n",
       "      <td>1.000000</td>\n",
       "      <td>1.000000</td>\n",
       "      <td>1.000000</td>\n",
       "      <td>1.000000</td>\n",
       "      <td>1.000000</td>\n",
       "      <td>1.000000</td>\n",
       "      <td>1.000000</td>\n",
       "      <td>1.000000</td>\n",
       "      <td>1.000000</td>\n",
       "      <td>1.000000</td>\n",
       "      <td>...</td>\n",
       "      <td>1.000000</td>\n",
       "      <td>1.000000</td>\n",
       "      <td>1.000000</td>\n",
       "      <td>1.000000</td>\n",
       "      <td>1.000000</td>\n",
       "      <td>1.000000</td>\n",
       "      <td>1.000000</td>\n",
       "      <td>1.000000</td>\n",
       "      <td>1.000000</td>\n",
       "      <td>1.000000</td>\n",
       "    </tr>\n",
       "    <tr>\n",
       "      <th>0.002</th>\n",
       "      <td>0.990507</td>\n",
       "      <td>0.983813</td>\n",
       "      <td>0.966405</td>\n",
       "      <td>0.972490</td>\n",
       "      <td>0.984162</td>\n",
       "      <td>0.959239</td>\n",
       "      <td>0.909210</td>\n",
       "      <td>0.877446</td>\n",
       "      <td>0.895497</td>\n",
       "      <td>0.928130</td>\n",
       "      <td>...</td>\n",
       "      <td>0.968560</td>\n",
       "      <td>0.991682</td>\n",
       "      <td>0.978349</td>\n",
       "      <td>0.983641</td>\n",
       "      <td>0.982507</td>\n",
       "      <td>0.948439</td>\n",
       "      <td>0.989742</td>\n",
       "      <td>0.979411</td>\n",
       "      <td>0.900401</td>\n",
       "      <td>0.951308</td>\n",
       "    </tr>\n",
       "    <tr>\n",
       "      <th>0.003</th>\n",
       "      <td>0.992650</td>\n",
       "      <td>0.973005</td>\n",
       "      <td>0.994163</td>\n",
       "      <td>0.946928</td>\n",
       "      <td>0.899749</td>\n",
       "      <td>0.926741</td>\n",
       "      <td>0.951697</td>\n",
       "      <td>0.904009</td>\n",
       "      <td>0.796727</td>\n",
       "      <td>0.874451</td>\n",
       "      <td>...</td>\n",
       "      <td>0.950883</td>\n",
       "      <td>0.956052</td>\n",
       "      <td>0.975435</td>\n",
       "      <td>0.964104</td>\n",
       "      <td>0.971843</td>\n",
       "      <td>0.956540</td>\n",
       "      <td>0.961235</td>\n",
       "      <td>0.951345</td>\n",
       "      <td>0.926405</td>\n",
       "      <td>0.932297</td>\n",
       "    </tr>\n",
       "    <tr>\n",
       "      <th>0.004</th>\n",
       "      <td>0.959887</td>\n",
       "      <td>0.991699</td>\n",
       "      <td>0.966736</td>\n",
       "      <td>0.927229</td>\n",
       "      <td>0.854173</td>\n",
       "      <td>0.978314</td>\n",
       "      <td>0.857724</td>\n",
       "      <td>0.707467</td>\n",
       "      <td>0.729521</td>\n",
       "      <td>0.905576</td>\n",
       "      <td>...</td>\n",
       "      <td>0.946533</td>\n",
       "      <td>0.913566</td>\n",
       "      <td>0.987344</td>\n",
       "      <td>0.989916</td>\n",
       "      <td>0.986632</td>\n",
       "      <td>0.844959</td>\n",
       "      <td>0.784239</td>\n",
       "      <td>0.869382</td>\n",
       "      <td>0.766705</td>\n",
       "      <td>0.730576</td>\n",
       "    </tr>\n",
       "    <tr>\n",
       "      <th>0.005</th>\n",
       "      <td>0.760536</td>\n",
       "      <td>0.964673</td>\n",
       "      <td>0.922877</td>\n",
       "      <td>0.944610</td>\n",
       "      <td>0.869960</td>\n",
       "      <td>0.885127</td>\n",
       "      <td>0.943967</td>\n",
       "      <td>0.709232</td>\n",
       "      <td>0.711489</td>\n",
       "      <td>0.954040</td>\n",
       "      <td>...</td>\n",
       "      <td>0.963897</td>\n",
       "      <td>0.976743</td>\n",
       "      <td>0.962921</td>\n",
       "      <td>0.973843</td>\n",
       "      <td>0.955989</td>\n",
       "      <td>0.836574</td>\n",
       "      <td>0.778331</td>\n",
       "      <td>0.949840</td>\n",
       "      <td>0.729514</td>\n",
       "      <td>0.776696</td>\n",
       "    </tr>\n",
       "  </tbody>\n",
       "</table>\n",
       "<p>5 rows × 214 columns</p>\n",
       "</div>"
      ],
      "text/plain": [
       "             R1        R2        R3        R4        R5        R6        R7  \\\n",
       "Time                                                                          \n",
       "0.001  1.000000  1.000000  1.000000  1.000000  1.000000  1.000000  1.000000   \n",
       "0.002  0.990507  0.983813  0.966405  0.972490  0.984162  0.959239  0.909210   \n",
       "0.003  0.992650  0.973005  0.994163  0.946928  0.899749  0.926741  0.951697   \n",
       "0.004  0.959887  0.991699  0.966736  0.927229  0.854173  0.978314  0.857724   \n",
       "0.005  0.760536  0.964673  0.922877  0.944610  0.869960  0.885127  0.943967   \n",
       "\n",
       "             R8        R9       R10  ...      R205      R206      R207  \\\n",
       "Time                                 ...                                 \n",
       "0.001  1.000000  1.000000  1.000000  ...  1.000000  1.000000  1.000000   \n",
       "0.002  0.877446  0.895497  0.928130  ...  0.968560  0.991682  0.978349   \n",
       "0.003  0.904009  0.796727  0.874451  ...  0.950883  0.956052  0.975435   \n",
       "0.004  0.707467  0.729521  0.905576  ...  0.946533  0.913566  0.987344   \n",
       "0.005  0.709232  0.711489  0.954040  ...  0.963897  0.976743  0.962921   \n",
       "\n",
       "           R208      R209      R210      R211      R212      R213      R214  \n",
       "Time                                                                         \n",
       "0.001  1.000000  1.000000  1.000000  1.000000  1.000000  1.000000  1.000000  \n",
       "0.002  0.983641  0.982507  0.948439  0.989742  0.979411  0.900401  0.951308  \n",
       "0.003  0.964104  0.971843  0.956540  0.961235  0.951345  0.926405  0.932297  \n",
       "0.004  0.989916  0.986632  0.844959  0.784239  0.869382  0.766705  0.730576  \n",
       "0.005  0.973843  0.955989  0.836574  0.778331  0.949840  0.729514  0.776696  \n",
       "\n",
       "[5 rows x 214 columns]"
      ]
     },
     "execution_count": 60,
     "metadata": {},
     "output_type": "execute_result"
    }
   ],
   "source": [
    "# Creating a dataframe to store weights\n",
    "Rids= [ f\"R{x}\" for x in range(1,natoms+1) ]\n",
    "\n",
    "df_weigh = pd.DataFrame( arr_ws , columns=Rids, index = df_gauss.index)\n",
    "df_weigh.to_csv( fout_wei , index_label= 'Time') \n",
    "df_weigh.head()"
   ]
  },
  {
   "cell_type": "markdown",
   "id": "fea5e344-1d62-4284-b598-71b27876d3a5",
   "metadata": {},
   "source": [
    "#### Save gfit traj\n",
    "- We use MDAnalysis transformation feature\n",
    "- We simply define an update function\n",
    "    - The function reads fitted coordinates from `timeseries` data & change `on-the-fly` the coordinates of the input traj"
   ]
  },
  {
   "cell_type": "code",
   "execution_count": 61,
   "id": "c438902e-eb89-468b-9795-1d819702a243",
   "metadata": {},
   "outputs": [],
   "source": [
    "def update(ts):\n",
    "    ts.positions = gauss.results['timeseries'][ts.frame][0]  # This contains gauss fitted positions\n",
    "    return ts"
   ]
  },
  {
   "cell_type": "code",
   "execution_count": 62,
   "id": "816491dd-f871-4121-b69d-eaf383f03eaf",
   "metadata": {},
   "outputs": [
    {
     "data": {
      "text/plain": [
       "<DCDReader /work/apps/MCONDA3/envs/MDTOOLS/lib/python3.9/site-packages/MDAnalysisTests/data/adk_dims.dcd with 98 frames of 3341 atoms>"
      ]
     },
     "execution_count": 62,
     "metadata": {},
     "output_type": "execute_result"
    }
   ],
   "source": [
    "trj_gfit = mda.Universe( finp_ref , finp_trj , transformations=[update])\n",
    "trj_gfit.trajectory"
   ]
  },
  {
   "cell_type": "markdown",
   "id": "ad179941-63d4-4c30-aca5-c4d2fbbc9df1",
   "metadata": {},
   "source": [
    "- Herein, we write gfit coordinates to a new traj"
   ]
  },
  {
   "cell_type": "code",
   "execution_count": 64,
   "id": "71eeff5b-468f-42fd-a35d-2a6f28a6c45c",
   "metadata": {},
   "outputs": [
    {
     "name": "stdout",
     "output_type": "stream",
     "text": [
      "gfit trajectory is saved as MDA_wRMSD.gfit.xtc\n",
      "Done Boss\n"
     ]
    }
   ],
   "source": [
    "protein = trj_gfit.select_atoms('all')\n",
    "with mda.Writer( fout_trj , protein.n_atoms) as W:\n",
    "    for ts in trj_gfit.trajectory:\n",
    "        W.write(protein)\n",
    "print(f\"gfit trajectory is saved as {fout_trj}\")\n",
    "print('Done Boss')"
   ]
  },
  {
   "cell_type": "markdown",
   "id": "e344748e-ff3e-4f43-b488-39f793f390b1",
   "metadata": {},
   "source": [
    "## Analysis of wRMSD And Protein Rigidness\n",
    "- We Plot sRMSD and wRMSD (`df_gauss dataframe`)"
   ]
  },
  {
   "cell_type": "code",
   "execution_count": 65,
   "id": "64727ddc-a973-4bde-ad74-898aaab9be35",
   "metadata": {},
   "outputs": [
    {
     "data": {
      "text/plain": [
       "Text(0.5, 1.0, 'Plot-1')"
      ]
     },
     "execution_count": 65,
     "metadata": {},
     "output_type": "execute_result"
    },
    {
     "data": {
      "image/png": "[encoded data removed]",
      "text/plain": [
       "<Figure size 320x200 with 1 Axes>"
      ]
     },
     "metadata": {},
     "output_type": "display_data"
    }
   ],
   "source": [
    "fig,ax = plt.subplots(1,1,figsize=(3.2,2))\n",
    "\n",
    "sns.lineplot( df_gauss.sRMSD , ax=ax , label='sRMSD')\n",
    "sns.lineplot( df_gauss.wRMSD , ax=ax,c='r', label='wRMSD')\n",
    "ax.set_ylabel('RMSD')\n",
    "ax.set_title('Plot-1')"
   ]
  },
  {
   "cell_type": "code",
   "execution_count": 66,
   "id": "614515e7-679b-4325-866b-27944f47b482",
   "metadata": {},
   "outputs": [
    {
     "data": {
      "text/plain": [
       "Text(0.5, 1.0, 'Plot-2')"
      ]
     },
     "execution_count": 66,
     "metadata": {},
     "output_type": "execute_result"
    },
    {
     "data": {
      "image/png": "[encoded data removed]",
      "text/plain": [
       "<Figure size 320x200 with 1 Axes>"
      ]
     },
     "metadata": {},
     "output_type": "display_data"
    }
   ],
   "source": [
    "fig,ax = plt.subplots(1,1,  figsize=(3.2,2))\n",
    "plt.subplots_adjust(hspace=0.4)\n",
    "sns.distplot( df_gauss.sRMSD , hist=False, ax=ax)\n",
    "ax.set_title('Plot-2')"
   ]
  },
  {
   "cell_type": "code",
   "execution_count": 67,
   "id": "b5d08d40-767d-4b1f-acd8-899018968bdd",
   "metadata": {},
   "outputs": [
    {
     "data": {
      "text/plain": [
       "Text(0.5, 1.0, 'Plot-3')"
      ]
     },
     "execution_count": 67,
     "metadata": {},
     "output_type": "execute_result"
    },
    {
     "data": {
      "image/png": "[encoded data removed]",
      "text/plain": [
       "<Figure size 320x200 with 2 Axes>"
      ]
     },
     "metadata": {},
     "output_type": "display_data"
    }
   ],
   "source": [
    "fig,ax = plt.subplots(1,1, figsize=(3.2,2))\n",
    "tx = ax.twinx()\n",
    "sns.distplot( df_gauss.wRMSD , hist=False, ax=ax)\n",
    "sns.ecdfplot( df_gauss.wRMSD, ax=tx , color='r')\n",
    "ax.set_title('Plot-3')"
   ]
  },
  {
   "cell_type": "markdown",
   "id": "5515387a-60f2-436d-aa35-b09aa6686018",
   "metadata": {},
   "source": [
    "#### **Inferences**\n",
    "- The traj analyzed here highlights transition of [closed to open](https://www.sciencedirect.com/science/article/abs/pii/S0022283609011164?via%3Dihub) conformation of enzyme adenylate kinase \n",
    "- The transition, as expected, results in the increase of sRMSD with respect to the starting conformation (Plot 1)\n",
    "- Increase in sRMSD also results in broader distribution (Plot 2)\n",
    "- The wRMSD is smaller than sRMSD, as the alignment ignores the contribution of most mobile regions (Plot 1 and 3)\n",
    "- Proportion plot of wRMSD (Plot 3) shows almost 90% of analyzed frames has wRMSD < 1.2 (Plot 3)"
   ]
  },
  {
   "cell_type": "markdown",
   "id": "8e6257e5-cf3d-44d0-8ff3-7eda66269960",
   "metadata": {},
   "source": [
    "#### Protein Rigidness\n",
    "- To quantify the `rigid core` within the protein, we use stored final weights of atoms.\n",
    "- To this end, we identify $C_{\\alpha}$ atoms whose displacement is < 1.2 Ang or whose weights > 0.74\n",
    "> ```python\n",
    " (exp( -(1.2**2)/5.0 ) = 0.74\n",
    "```"
   ]
  },
  {
   "cell_type": "code",
   "execution_count": 68,
   "id": "17e78f0a-6ed4-4dfd-9c93-05a9f19264a1",
   "metadata": {},
   "outputs": [],
   "source": [
    "# Fraction of atoms with weights higher than 0.74\n",
    "fn = lambda arr : len( arr[ arr > 0.74 ] )/ arr.size"
   ]
  },
  {
   "cell_type": "code",
   "execution_count": 69,
   "id": "dc109750-4952-49df-9e04-b9749b5b391b",
   "metadata": {},
   "outputs": [
    {
     "data": {
      "text/html": [
       "<div>\n",
       "<style scoped>\n",
       "    .dataframe tbody tr th:only-of-type {\n",
       "        vertical-align: middle;\n",
       "    }\n",
       "\n",
       "    .dataframe tbody tr th {\n",
       "        vertical-align: top;\n",
       "    }\n",
       "\n",
       "    .dataframe thead th {\n",
       "        text-align: right;\n",
       "    }\n",
       "</style>\n",
       "<table border=\"1\" class=\"dataframe\">\n",
       "  <thead>\n",
       "    <tr style=\"text-align: right;\">\n",
       "      <th></th>\n",
       "      <th>R1</th>\n",
       "      <th>R2</th>\n",
       "      <th>R3</th>\n",
       "      <th>R4</th>\n",
       "      <th>R5</th>\n",
       "      <th>R6</th>\n",
       "      <th>R7</th>\n",
       "      <th>R8</th>\n",
       "      <th>R9</th>\n",
       "      <th>R10</th>\n",
       "      <th>...</th>\n",
       "      <th>R205</th>\n",
       "      <th>R206</th>\n",
       "      <th>R207</th>\n",
       "      <th>R208</th>\n",
       "      <th>R209</th>\n",
       "      <th>R210</th>\n",
       "      <th>R211</th>\n",
       "      <th>R212</th>\n",
       "      <th>R213</th>\n",
       "      <th>R214</th>\n",
       "    </tr>\n",
       "    <tr>\n",
       "      <th>Time</th>\n",
       "      <th></th>\n",
       "      <th></th>\n",
       "      <th></th>\n",
       "      <th></th>\n",
       "      <th></th>\n",
       "      <th></th>\n",
       "      <th></th>\n",
       "      <th></th>\n",
       "      <th></th>\n",
       "      <th></th>\n",
       "      <th></th>\n",
       "      <th></th>\n",
       "      <th></th>\n",
       "      <th></th>\n",
       "      <th></th>\n",
       "      <th></th>\n",
       "      <th></th>\n",
       "      <th></th>\n",
       "      <th></th>\n",
       "      <th></th>\n",
       "      <th></th>\n",
       "    </tr>\n",
       "  </thead>\n",
       "  <tbody>\n",
       "    <tr>\n",
       "      <th>0.001</th>\n",
       "      <td>1.000000</td>\n",
       "      <td>1.000000</td>\n",
       "      <td>1.000000</td>\n",
       "      <td>1.000000</td>\n",
       "      <td>1.000000</td>\n",
       "      <td>1.000000</td>\n",
       "      <td>1.000000</td>\n",
       "      <td>1.000000</td>\n",
       "      <td>1.000000</td>\n",
       "      <td>1.000000</td>\n",
       "      <td>...</td>\n",
       "      <td>1.000000</td>\n",
       "      <td>1.000000</td>\n",
       "      <td>1.000000</td>\n",
       "      <td>1.000000</td>\n",
       "      <td>1.000000</td>\n",
       "      <td>1.000000</td>\n",
       "      <td>1.000000</td>\n",
       "      <td>1.000000</td>\n",
       "      <td>1.000000</td>\n",
       "      <td>1.000000</td>\n",
       "    </tr>\n",
       "    <tr>\n",
       "      <th>0.002</th>\n",
       "      <td>0.990507</td>\n",
       "      <td>0.983813</td>\n",
       "      <td>0.966405</td>\n",
       "      <td>0.972490</td>\n",
       "      <td>0.984162</td>\n",
       "      <td>0.959239</td>\n",
       "      <td>0.909210</td>\n",
       "      <td>0.877446</td>\n",
       "      <td>0.895497</td>\n",
       "      <td>0.928130</td>\n",
       "      <td>...</td>\n",
       "      <td>0.968560</td>\n",
       "      <td>0.991682</td>\n",
       "      <td>0.978349</td>\n",
       "      <td>0.983641</td>\n",
       "      <td>0.982507</td>\n",
       "      <td>0.948439</td>\n",
       "      <td>0.989742</td>\n",
       "      <td>0.979411</td>\n",
       "      <td>0.900401</td>\n",
       "      <td>0.951308</td>\n",
       "    </tr>\n",
       "    <tr>\n",
       "      <th>0.003</th>\n",
       "      <td>0.992650</td>\n",
       "      <td>0.973005</td>\n",
       "      <td>0.994163</td>\n",
       "      <td>0.946928</td>\n",
       "      <td>0.899749</td>\n",
       "      <td>0.926741</td>\n",
       "      <td>0.951697</td>\n",
       "      <td>0.904009</td>\n",
       "      <td>0.796727</td>\n",
       "      <td>0.874451</td>\n",
       "      <td>...</td>\n",
       "      <td>0.950883</td>\n",
       "      <td>0.956052</td>\n",
       "      <td>0.975435</td>\n",
       "      <td>0.964104</td>\n",
       "      <td>0.971843</td>\n",
       "      <td>0.956540</td>\n",
       "      <td>0.961235</td>\n",
       "      <td>0.951345</td>\n",
       "      <td>0.926405</td>\n",
       "      <td>0.932297</td>\n",
       "    </tr>\n",
       "    <tr>\n",
       "      <th>0.004</th>\n",
       "      <td>0.959887</td>\n",
       "      <td>0.991699</td>\n",
       "      <td>0.966736</td>\n",
       "      <td>0.927229</td>\n",
       "      <td>0.854173</td>\n",
       "      <td>0.978314</td>\n",
       "      <td>0.857724</td>\n",
       "      <td>0.707467</td>\n",
       "      <td>0.729521</td>\n",
       "      <td>0.905576</td>\n",
       "      <td>...</td>\n",
       "      <td>0.946533</td>\n",
       "      <td>0.913566</td>\n",
       "      <td>0.987344</td>\n",
       "      <td>0.989916</td>\n",
       "      <td>0.986632</td>\n",
       "      <td>0.844959</td>\n",
       "      <td>0.784239</td>\n",
       "      <td>0.869382</td>\n",
       "      <td>0.766705</td>\n",
       "      <td>0.730576</td>\n",
       "    </tr>\n",
       "    <tr>\n",
       "      <th>0.005</th>\n",
       "      <td>0.760536</td>\n",
       "      <td>0.964673</td>\n",
       "      <td>0.922877</td>\n",
       "      <td>0.944610</td>\n",
       "      <td>0.869960</td>\n",
       "      <td>0.885127</td>\n",
       "      <td>0.943967</td>\n",
       "      <td>0.709232</td>\n",
       "      <td>0.711489</td>\n",
       "      <td>0.954040</td>\n",
       "      <td>...</td>\n",
       "      <td>0.963897</td>\n",
       "      <td>0.976743</td>\n",
       "      <td>0.962921</td>\n",
       "      <td>0.973843</td>\n",
       "      <td>0.955989</td>\n",
       "      <td>0.836574</td>\n",
       "      <td>0.778331</td>\n",
       "      <td>0.949840</td>\n",
       "      <td>0.729514</td>\n",
       "      <td>0.776696</td>\n",
       "    </tr>\n",
       "  </tbody>\n",
       "</table>\n",
       "<p>5 rows × 214 columns</p>\n",
       "</div>"
      ],
      "text/plain": [
       "             R1        R2        R3        R4        R5        R6        R7  \\\n",
       "Time                                                                          \n",
       "0.001  1.000000  1.000000  1.000000  1.000000  1.000000  1.000000  1.000000   \n",
       "0.002  0.990507  0.983813  0.966405  0.972490  0.984162  0.959239  0.909210   \n",
       "0.003  0.992650  0.973005  0.994163  0.946928  0.899749  0.926741  0.951697   \n",
       "0.004  0.959887  0.991699  0.966736  0.927229  0.854173  0.978314  0.857724   \n",
       "0.005  0.760536  0.964673  0.922877  0.944610  0.869960  0.885127  0.943967   \n",
       "\n",
       "             R8        R9       R10  ...      R205      R206      R207  \\\n",
       "Time                                 ...                                 \n",
       "0.001  1.000000  1.000000  1.000000  ...  1.000000  1.000000  1.000000   \n",
       "0.002  0.877446  0.895497  0.928130  ...  0.968560  0.991682  0.978349   \n",
       "0.003  0.904009  0.796727  0.874451  ...  0.950883  0.956052  0.975435   \n",
       "0.004  0.707467  0.729521  0.905576  ...  0.946533  0.913566  0.987344   \n",
       "0.005  0.709232  0.711489  0.954040  ...  0.963897  0.976743  0.962921   \n",
       "\n",
       "           R208      R209      R210      R211      R212      R213      R214  \n",
       "Time                                                                         \n",
       "0.001  1.000000  1.000000  1.000000  1.000000  1.000000  1.000000  1.000000  \n",
       "0.002  0.983641  0.982507  0.948439  0.989742  0.979411  0.900401  0.951308  \n",
       "0.003  0.964104  0.971843  0.956540  0.961235  0.951345  0.926405  0.932297  \n",
       "0.004  0.989916  0.986632  0.844959  0.784239  0.869382  0.766705  0.730576  \n",
       "0.005  0.973843  0.955989  0.836574  0.778331  0.949840  0.729514  0.776696  \n",
       "\n",
       "[5 rows x 214 columns]"
      ]
     },
     "execution_count": 69,
     "metadata": {},
     "output_type": "execute_result"
    }
   ],
   "source": [
    "df_weigh.head()"
   ]
  },
  {
   "cell_type": "code",
   "execution_count": 70,
   "id": "0804968c-09ce-4a0d-8b3f-74a03caef6f9",
   "metadata": {},
   "outputs": [
    {
     "data": {
      "text/plain": [
       "Time\n",
       "0.001    1.000000\n",
       "0.002    1.000000\n",
       "0.003    0.981308\n",
       "0.004    0.915888\n",
       "0.005    0.901869\n",
       "           ...   \n",
       "0.094    0.359813\n",
       "0.095    0.341121\n",
       "0.096    0.373832\n",
       "0.097    0.355140\n",
       "0.098    0.341121\n",
       "Length: 98, dtype: float64"
      ]
     },
     "execution_count": 70,
     "metadata": {},
     "output_type": "execute_result"
    }
   ],
   "source": [
    "# For each frame, we obtain the fraction of rigid core\n",
    "frac = df_weigh.apply( fn , axis=1)\n",
    "frac"
   ]
  },
  {
   "cell_type": "code",
   "execution_count": 71,
   "id": "6be35dcb-3cd2-4374-9add-bc87f25d72fd",
   "metadata": {},
   "outputs": [
    {
     "data": {
      "text/plain": [
       "Text(0.5, 1.0, 'Plot-4')"
      ]
     },
     "execution_count": 71,
     "metadata": {},
     "output_type": "execute_result"
    },
    {
     "data": {
      "image/png": "[encoded data removed]",
      "text/plain": [
       "<Figure size 320x200 with 1 Axes>"
      ]
     },
     "metadata": {},
     "output_type": "display_data"
    }
   ],
   "source": [
    "fig,ax = plt.subplots(1,1, figsize=(3.2,2))\n",
    "sns.lineplot(frac,ax=ax)\n",
    "ax.set_ylabel('Rigidity')\n",
    "ax.axhline(0.4,ls='--')\n",
    "ax.set_title('Plot-4')"
   ]
  },
  {
   "cell_type": "code",
   "execution_count": 72,
   "id": "c7830047-5ad0-4ca8-b375-9432a157424c",
   "metadata": {},
   "outputs": [
    {
     "data": {
      "text/plain": [
       "R1      0.887755\n",
       "R2      0.959184\n",
       "R3      1.000000\n",
       "R4      0.969388\n",
       "R5      0.704082\n",
       "          ...   \n",
       "R210    0.326531\n",
       "R211    0.306122\n",
       "R212    0.367347\n",
       "R213    0.183673\n",
       "R214    0.122449\n",
       "Length: 214, dtype: float64"
      ]
     },
     "execution_count": 72,
     "metadata": {},
     "output_type": "execute_result"
    }
   ],
   "source": [
    "# Here, for each atom, we estimate to what percentage it stays within 1.2 Ang displacement\n",
    "Byres = df_weigh.apply( fn )\n",
    "Byres"
   ]
  },
  {
   "cell_type": "code",
   "execution_count": 73,
   "id": "5a0d1180-569e-4c0b-8262-55bcf64c73d6",
   "metadata": {},
   "outputs": [],
   "source": [
    "Byres.index = range(1,215)"
   ]
  },
  {
   "cell_type": "code",
   "execution_count": 74,
   "id": "68d3e430-4fdf-486c-8730-bcca163b7409",
   "metadata": {},
   "outputs": [
    {
     "data": {
      "text/plain": [
       "Text(0.5, 1.0, 'Plot-5')"
      ]
     },
     "execution_count": 74,
     "metadata": {},
     "output_type": "execute_result"
    },
    {
     "data": {
      "image/png": "[encoded data removed]",
      "text/plain": [
       "<Figure size 720x200 with 1 Axes>"
      ]
     },
     "metadata": {},
     "output_type": "display_data"
    }
   ],
   "source": [
    "fig,ax = plt.subplots(1,1, figsize=(7.2,2))\n",
    "sns.lineplot(Byres,ax=ax)\n",
    "ax.set_ylabel('Rigidity')\n",
    "ax.axhline(0.4,ls='--')\n",
    "ax.set_xticks( range(1,215,15))\n",
    "ax.set_xlabel('Residue id')\n",
    "ax.set_title('Plot-5')"
   ]
  },
  {
   "cell_type": "code",
   "execution_count": 76,
   "id": "265616ef-1ebe-40ee-993b-7a9f926b00f1",
   "metadata": {},
   "outputs": [
    {
     "data": {
      "application/vnd.jupyter.widget-view+json": {
       "model_id": "52a8921c239941909c371c8fb3688ac1",
       "version_major": 2,
       "version_minor": 0
      },
      "text/plain": [
       "NGLWidget(layout=Layout(width='63%'), max_frame=97)"
      ]
     },
     "metadata": {},
     "output_type": "display_data"
    }
   ],
   "source": [
    "# Visualize the gaussfit traj, highlight rigid segments in green, whilst mobile as black\n",
    "gfit = mda.Universe( finp_ref , fout_trj )\n",
    "view = call_ngl( gfit )\n",
    "view.add_cartoon('all',color='green')\n",
    "# From Plot5, we color two regions of less rigidity\n",
    "view.add_cartoon('36-70',color='black')\n",
    "view.add_cartoon('116-163',color='black')\n",
    "view"
   ]
  },
  {
   "cell_type": "markdown",
   "id": "700c6144-41c4-4572-b5d2-413720b0febc",
   "metadata": {},
   "source": [
    "#### **Inferences**\n",
    "- Reduction in rigidity as a function of simulation time correlates with the conformational transition (Plot 4).\n",
    "- Quantification of residue level of rigidity (Plot 5) and visual representation (gfit traj) highlight the most mobile segments (black ribbons) displaying hinge motions upton conformational transition."
   ]
  },
  {
   "cell_type": "markdown",
   "id": "c043e315-d52c-4cd3-90e6-1d1c2ab2c0a9",
   "metadata": {},
   "source": [
    "%load README.md\n",
    "\n",
    "#### **Quantification of protein rigidness**\n",
    "\n",
    "#### - Background\n",
    "Molecular dynamics (MD) is widely used to characterise the dynamic behaviour of proteins, allowing the time-evolved conformational changes associated with protein function to be described. In this context, the root mean square deviation (RMSD) is a routinely used measure of the structural variability of a protein with respect to a reference conformation (e.g. the initial snapshot). However, the `standard RMSD (sRMSD) does not provide sufficient information to distinguish or quantify the contributions of static/rigid and mobile regions within the protein`. For this purpose, methods for estimating the weighted RMSD (wRMSD) have been reported. These methods vary slightly in their mathematical formulation, but the general idea remains the same. These methods assign weights to atoms involved in the alignment to drive the fit based on segments that are relatively rigid between the two superimposed conformations. This excludes contributions from mobile segments in the fitting process. \n",
    "\n",
    "#### - Implementation\n",
    "A pitfall of wRMSD, though, is the requirement of an iterative fit to reach a convergence, which restricts its application to large MD trajectories. Currently, there is no ready to use tool available to the best of our knowledge to estimate wRMSD estimation on trajectories. The current repository provides the implementation of wRMSD estimations with the popular MDAnalysis library and its sample trajectory. To this end, weights are assigined using a gaussina factor. Discussion on the formulation is described elsewhere {https://pubmed.ncbi.nlm.nih.gov/16565070/}\n",
    "\n"
   ]
  },
  {
   "cell_type": "markdown",
   "id": "634f67ba-5cb8-4a64-8af6-6b7c0ade4a92",
   "metadata": {},
   "source": []
  },
  {
   "cell_type": "code",
   "execution_count": null,
   "id": "d2ce9905-2e2e-4799-8b80-f73aac1c6291",
   "metadata": {},
   "outputs": [],
   "source": []
  }
 ],
 "metadata": {
  "kernelspec": {
   "display_name": "MDTOOLS",
   "language": "python",
   "name": "mdtools"
  },
  "language_info": {
   "codemirror_mode": {
    "name": "ipython",
    "version": 3
   },
   "file_extension": ".py",
   "mimetype": "text/x-python",
   "name": "python",
   "nbconvert_exporter": "python",
   "pygments_lexer": "ipython3",
   "version": "3.9.15"
  }
 },
 "nbformat": 4,
 "nbformat_minor": 5
}
